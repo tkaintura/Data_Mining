{
 "cells": [
  {
   "cell_type": "code",
   "execution_count": 18,
   "id": "0ce2cb10",
   "metadata": {},
   "outputs": [],
   "source": [
    "import pandas as pd\n",
    "import numpy as np\n",
    "import matplotlib.pyplot as plt\n",
    "import seaborn as sns"
   ]
  },
  {
   "cell_type": "code",
   "execution_count": 21,
   "id": "2e369691",
   "metadata": {},
   "outputs": [
    {
     "data": {
      "text/html": [
       "<div>\n",
       "<style scoped>\n",
       "    .dataframe tbody tr th:only-of-type {\n",
       "        vertical-align: middle;\n",
       "    }\n",
       "\n",
       "    .dataframe tbody tr th {\n",
       "        vertical-align: top;\n",
       "    }\n",
       "\n",
       "    .dataframe thead th {\n",
       "        text-align: right;\n",
       "    }\n",
       "</style>\n",
       "<table border=\"1\" class=\"dataframe\">\n",
       "  <thead>\n",
       "    <tr style=\"text-align: right;\">\n",
       "      <th></th>\n",
       "      <th>id</th>\n",
       "      <th>time</th>\n",
       "      <th>variable</th>\n",
       "      <th>value</th>\n",
       "    </tr>\n",
       "  </thead>\n",
       "  <tbody>\n",
       "    <tr>\n",
       "      <th>0</th>\n",
       "      <td>AS14.01</td>\n",
       "      <td>2014-02-26 13:00:00.000</td>\n",
       "      <td>mood</td>\n",
       "      <td>6.000</td>\n",
       "    </tr>\n",
       "    <tr>\n",
       "      <th>1</th>\n",
       "      <td>AS14.01</td>\n",
       "      <td>2014-02-26 15:00:00.000</td>\n",
       "      <td>mood</td>\n",
       "      <td>6.000</td>\n",
       "    </tr>\n",
       "    <tr>\n",
       "      <th>2</th>\n",
       "      <td>AS14.01</td>\n",
       "      <td>2014-02-26 18:00:00.000</td>\n",
       "      <td>mood</td>\n",
       "      <td>6.000</td>\n",
       "    </tr>\n",
       "    <tr>\n",
       "      <th>3</th>\n",
       "      <td>AS14.01</td>\n",
       "      <td>2014-02-26 21:00:00.000</td>\n",
       "      <td>mood</td>\n",
       "      <td>7.000</td>\n",
       "    </tr>\n",
       "    <tr>\n",
       "      <th>4</th>\n",
       "      <td>AS14.01</td>\n",
       "      <td>2014-02-27 09:00:00.000</td>\n",
       "      <td>mood</td>\n",
       "      <td>6.000</td>\n",
       "    </tr>\n",
       "    <tr>\n",
       "      <th>...</th>\n",
       "      <td>...</td>\n",
       "      <td>...</td>\n",
       "      <td>...</td>\n",
       "      <td>...</td>\n",
       "    </tr>\n",
       "    <tr>\n",
       "      <th>376907</th>\n",
       "      <td>AS14.30</td>\n",
       "      <td>2014-04-11 07:51:16.948</td>\n",
       "      <td>appCat.weather</td>\n",
       "      <td>8.032</td>\n",
       "    </tr>\n",
       "    <tr>\n",
       "      <th>376908</th>\n",
       "      <td>AS14.30</td>\n",
       "      <td>2014-04-19 11:00:32.747</td>\n",
       "      <td>appCat.weather</td>\n",
       "      <td>3.008</td>\n",
       "    </tr>\n",
       "    <tr>\n",
       "      <th>376909</th>\n",
       "      <td>AS14.30</td>\n",
       "      <td>2014-04-26 10:19:07.434</td>\n",
       "      <td>appCat.weather</td>\n",
       "      <td>7.026</td>\n",
       "    </tr>\n",
       "    <tr>\n",
       "      <th>376910</th>\n",
       "      <td>AS14.30</td>\n",
       "      <td>2014-04-27 00:44:48.450</td>\n",
       "      <td>appCat.weather</td>\n",
       "      <td>23.033</td>\n",
       "    </tr>\n",
       "    <tr>\n",
       "      <th>376911</th>\n",
       "      <td>AS14.32</td>\n",
       "      <td>2014-04-07 18:25:14.036</td>\n",
       "      <td>appCat.weather</td>\n",
       "      <td>22.431</td>\n",
       "    </tr>\n",
       "  </tbody>\n",
       "</table>\n",
       "<p>376912 rows × 4 columns</p>\n",
       "</div>"
      ],
      "text/plain": [
       "             id                     time        variable   value\n",
       "0       AS14.01  2014-02-26 13:00:00.000            mood   6.000\n",
       "1       AS14.01  2014-02-26 15:00:00.000            mood   6.000\n",
       "2       AS14.01  2014-02-26 18:00:00.000            mood   6.000\n",
       "3       AS14.01  2014-02-26 21:00:00.000            mood   7.000\n",
       "4       AS14.01  2014-02-27 09:00:00.000            mood   6.000\n",
       "...         ...                      ...             ...     ...\n",
       "376907  AS14.30  2014-04-11 07:51:16.948  appCat.weather   8.032\n",
       "376908  AS14.30  2014-04-19 11:00:32.747  appCat.weather   3.008\n",
       "376909  AS14.30  2014-04-26 10:19:07.434  appCat.weather   7.026\n",
       "376910  AS14.30  2014-04-27 00:44:48.450  appCat.weather  23.033\n",
       "376911  AS14.32  2014-04-07 18:25:14.036  appCat.weather  22.431\n",
       "\n",
       "[376912 rows x 4 columns]"
      ]
     },
     "execution_count": 21,
     "metadata": {},
     "output_type": "execute_result"
    }
   ],
   "source": [
    "# Read the data\n",
    "df = pd.read_csv(\"dataset_mood_smartphone.csv\",delimiter=',')\n",
    "# drop a column\n",
    "df = df.drop(['Unnamed: 0'],axis=1)\n",
    "# print the data\n",
    "df"
   ]
  },
  {
   "cell_type": "markdown",
   "id": "4b72244f",
   "metadata": {},
   "source": [
    "## Task 1A\n",
    "\n",
    "Start with exploring the raw data that is available:\n",
    "\n",
    "• Notice all sorts of properties of the dataset: how many records are there, how many\n",
    "attributes, what kinds of attributes are there, ranges of values, distribution of values,\n",
    "relationships between attributes, missing values, and so on. A table is often a suitable\n",
    "way of showing such properties of a dataset. Notice if something is interesting (to you,\n",
    "or in general), make sure you write it down if you find something worth mentioning.\n",
    "\n",
    "• Make various plots of the data. Is there something interesting worth reporting? Report\n",
    "the figures, discuss what is in them. What meaning do those bars, lines, dots, etc.\n",
    "convey? Please select essential and interesting plots for discussion, as you have limited\n",
    "space for reporting your findings.\n"
   ]
  },
  {
   "cell_type": "markdown",
   "id": "e96a407c",
   "metadata": {},
   "source": [
    "## Remaining\n",
    "Remaining - im still not able to find a good graph to showcase in this. \n",
    "Gowthams comment - most entries of appCat have a mood valence associated with its usage. "
   ]
  },
  {
   "cell_type": "code",
   "execution_count": 26,
   "id": "639e22ed",
   "metadata": {},
   "outputs": [
    {
     "name": "stdout",
     "output_type": "stream",
     "text": [
      "Number of records: 376912\n",
      "Number of attributes: 4\n",
      "Attribute names and data types:\n",
      "id           object\n",
      "time         object\n",
      "variable     object\n",
      "value       float64\n",
      "dtype: object\n",
      "Range of Value column: (-82798.871, 33960.246)\n",
      "Range of Time column: ('2014-02-17 07:00:52.197', '2014-06-09 00:00:00.000')\n",
      "Number of missing values per attribute:\n",
      "id            0\n",
      "time          0\n",
      "variable      0\n",
      "value       202\n",
      "dtype: int64\n"
     ]
    }
   ],
   "source": [
    "# print the number of records and attributes\n",
    "print(f'Number of records: {df.shape[0]}')\n",
    "print(f'Number of attributes: {df.shape[1]}')\n",
    "\n",
    "# print the names and data types of the attributes\n",
    "print('Attribute names and data types:')\n",
    "print(df.dtypes)\n",
    "\n",
    "# get the range of values for the 'value' column\n",
    "value_range = (df['value'].min(), df['value'].max())\n",
    "print('Range of Value column:', value_range)\n",
    "\n",
    "# get the range of values for the 'time' column\n",
    "time_range = (df['time'].min(), df['time'].max())\n",
    "print('Range of Time column:', time_range)\n",
    "\n",
    "# print the number of missing values for each attribute\n",
    "print('Number of missing values per attribute:')\n",
    "print(df.isnull().sum())"
   ]
  },
  {
   "cell_type": "code",
   "execution_count": 29,
   "id": "5905b8e4",
   "metadata": {},
   "outputs": [
    {
     "data": {
      "text/html": [
       "<div>\n",
       "<style scoped>\n",
       "    .dataframe tbody tr th:only-of-type {\n",
       "        vertical-align: middle;\n",
       "    }\n",
       "\n",
       "    .dataframe tbody tr th {\n",
       "        vertical-align: top;\n",
       "    }\n",
       "\n",
       "    .dataframe thead th {\n",
       "        text-align: right;\n",
       "    }\n",
       "</style>\n",
       "<table border=\"1\" class=\"dataframe\">\n",
       "  <thead>\n",
       "    <tr style=\"text-align: right;\">\n",
       "      <th></th>\n",
       "      <th>value</th>\n",
       "    </tr>\n",
       "  </thead>\n",
       "  <tbody>\n",
       "    <tr>\n",
       "      <th>count</th>\n",
       "      <td>376710.000000</td>\n",
       "    </tr>\n",
       "    <tr>\n",
       "      <th>mean</th>\n",
       "      <td>40.665313</td>\n",
       "    </tr>\n",
       "    <tr>\n",
       "      <th>std</th>\n",
       "      <td>273.726007</td>\n",
       "    </tr>\n",
       "    <tr>\n",
       "      <th>min</th>\n",
       "      <td>-82798.871000</td>\n",
       "    </tr>\n",
       "    <tr>\n",
       "      <th>25%</th>\n",
       "      <td>2.025000</td>\n",
       "    </tr>\n",
       "    <tr>\n",
       "      <th>50%</th>\n",
       "      <td>7.029000</td>\n",
       "    </tr>\n",
       "    <tr>\n",
       "      <th>75%</th>\n",
       "      <td>29.356000</td>\n",
       "    </tr>\n",
       "    <tr>\n",
       "      <th>max</th>\n",
       "      <td>33960.246000</td>\n",
       "    </tr>\n",
       "  </tbody>\n",
       "</table>\n",
       "</div>"
      ],
      "text/plain": [
       "               value\n",
       "count  376710.000000\n",
       "mean       40.665313\n",
       "std       273.726007\n",
       "min    -82798.871000\n",
       "25%         2.025000\n",
       "50%         7.029000\n",
       "75%        29.356000\n",
       "max     33960.246000"
      ]
     },
     "execution_count": 29,
     "metadata": {},
     "output_type": "execute_result"
    }
   ],
   "source": [
    "df.describe()"
   ]
  },
  {
   "cell_type": "code",
   "execution_count": 43,
   "id": "17ec0d32",
   "metadata": {},
   "outputs": [
    {
     "data": {
      "text/plain": [
       "(376912, 4)"
      ]
     },
     "execution_count": 43,
     "metadata": {},
     "output_type": "execute_result"
    }
   ],
   "source": [
    "df.shape"
   ]
  },
  {
   "cell_type": "code",
   "execution_count": 42,
   "id": "43faa35d",
   "metadata": {},
   "outputs": [
    {
     "data": {
      "text/plain": [
       "id              27\n",
       "time        336907\n",
       "variable        19\n",
       "value       130606\n",
       "dtype: int64"
      ]
     },
     "execution_count": 42,
     "metadata": {},
     "output_type": "execute_result"
    }
   ],
   "source": [
    "#number of unique values\n",
    "df.nunique()"
   ]
  },
  {
   "cell_type": "code",
   "execution_count": 32,
   "id": "b7e318b4",
   "metadata": {},
   "outputs": [
    {
     "name": "stdout",
     "output_type": "stream",
     "text": [
      "Skewness: -32.064213\n",
      "Kurtosis: 26063.604831\n"
     ]
    }
   ],
   "source": [
    "#skewness and kurtosis\n",
    "print(\"Skewness: %f\" % df['value'].skew())\n",
    "print(\"Kurtosis: %f\" % df['value'].kurt())"
   ]
  },
  {
   "cell_type": "code",
   "execution_count": 38,
   "id": "c38a041b",
   "metadata": {},
   "outputs": [
    {
     "data": {
      "image/png": "[encoded data removed]",
      "text/plain": [
       "<Figure size 432x288 with 1 Axes>"
      ]
     },
     "metadata": {
      "needs_background": "light"
     },
     "output_type": "display_data"
    }
   ],
   "source": [
    "# convert the 'time' column to a datetime object\n",
    "df['time'] = pd.to_datetime(df['time'])\n",
    "\n",
    "# plot a line graph of 'value' vs 'time'\n",
    "df.plot(x='time', y='value', kind='line')\n",
    "\n",
    "# show the plot\n",
    "plt.show()"
   ]
  },
  {
   "cell_type": "code",
   "execution_count": 50,
   "id": "164de2e6",
   "metadata": {},
   "outputs": [],
   "source": [
    "# something interesting is that there are some duplicated timestamp need to explore more on that\n",
    "# there is a negative value on one day throughout a dataset, huge value.\n",
    "# some values are even missing. "
   ]
  },
  {
   "cell_type": "code",
   "execution_count": 57,
   "id": "d7c5e2d7",
   "metadata": {},
   "outputs": [
    {
     "name": "stdout",
     "output_type": "stream",
     "text": [
      "                variable       value\n",
      "5            appCat.game  128.391615\n",
      "17                screen   75.335206\n",
      "8          appCat.social   72.401906\n",
      "9          appCat.travel   45.730850\n",
      "10        appCat.unknown   45.553006\n",
      "2   appCat.communication   43.343792\n",
      "3   appCat.entertainment   37.576480\n",
      "7           appCat.other   25.810839\n",
      "6          appCat.office   22.578892\n",
      "4         appCat.finance   21.755251\n",
      "12        appCat.weather   20.148714\n",
      "1         appCat.builtin   18.538262\n",
      "11      appCat.utilities   18.537552\n",
      "16                  mood    6.992555\n",
      "18                   sms    1.000000\n",
      "13                  call    1.000000\n",
      "15    circumplex.valence    0.687808\n",
      "0               activity    0.115958\n",
      "14    circumplex.arousal   -0.098624\n"
     ]
    }
   ],
   "source": [
    "# group the data by participant and time, and calculate the mean mood value for each group\n",
    "grouped = df.groupby(['variable']).mean().reset_index()\n",
    "\n",
    "print(grouped.sort_values('value',ascending=False))"
   ]
  },
  {
   "cell_type": "code",
   "execution_count": null,
   "id": "62da31af",
   "metadata": {},
   "outputs": [],
   "source": [
    "#this shows that poeple have spend time on games more (Duration of usage of game apps (time))"
   ]
  },
  {
   "cell_type": "code",
   "execution_count": 63,
   "id": "433323ce",
   "metadata": {},
   "outputs": [
    {
     "name": "stdout",
     "output_type": "stream",
     "text": [
      "  monthly_date         value\n",
      "2      2014-04  9.445997e+06\n",
      "1      2014-03  3.054395e+06\n",
      "3      2014-05  2.751413e+06\n",
      "4      2014-06  6.609723e+04\n",
      "0      2014-02  1.128000e+03\n"
     ]
    },
    {
     "name": "stderr",
     "output_type": "stream",
     "text": [
      "/var/folders/gj/jkkdm3g53912l5m4ptkm88pc0000gn/T/ipykernel_82848/2487609544.py:3: SettingWithCopyWarning: \n",
      "A value is trying to be set on a copy of a slice from a DataFrame.\n",
      "Try using .loc[row_indexer,col_indexer] = value instead\n",
      "\n",
      "See the caveats in the documentation: https://pandas.pydata.org/pandas-docs/stable/user_guide/indexing.html#returning-a-view-versus-a-copy\n",
      "  data_monthly['monthly_date'] = data_monthly['time'].dt.to_period('M')\n"
     ]
    }
   ],
   "source": [
    "data_monthly = df[['time','value']]\n",
    "# create a new column 'monthly_date' with monthly date values\n",
    "data_monthly['monthly_date'] = data_monthly['time'].dt.to_period('M')\n",
    "grouped_time_monthly = data_monthly.groupby(['monthly_date']).sum().reset_index()\n",
    "print(grouped_time_monthly.sort_values('value',ascending=False))"
   ]
  },
  {
   "cell_type": "code",
   "execution_count": 64,
   "id": "d85f72bf",
   "metadata": {},
   "outputs": [],
   "source": [
    "# this shows in 2014 April the value is highest."
   ]
  },
  {
   "cell_type": "code",
   "execution_count": 65,
   "id": "49c09741",
   "metadata": {},
   "outputs": [
    {
     "data": {
      "image/png": "[encoded data removed]",
      "text/plain": [
       "<Figure size 432x288 with 1 Axes>"
      ]
     },
     "metadata": {
      "needs_background": "light"
     },
     "output_type": "display_data"
    }
   ],
   "source": [
    "# plot a line graph of 'value' vs 'time'\n",
    "grouped_time_monthly.plot(x='monthly_date', y='value', kind='line')\n",
    "\n",
    "# show the plot\n",
    "plt.show()"
   ]
  },
  {
   "cell_type": "code",
   "execution_count": 73,
   "id": "58437bbf",
   "metadata": {},
   "outputs": [
    {
     "data": {
      "image/png": "[encoded data removed]",
      "text/plain": [
       "<Figure size 1080x432 with 1 Axes>"
      ]
     },
     "metadata": {
      "needs_background": "light"
     },
     "output_type": "display_data"
    }
   ],
   "source": [
    "#box plot overallqual/saleprice\n",
    "data = pd.concat([df['variable'], df['value']], axis=1)\n",
    "f, ax = plt.subplots(figsize=(15, 6))\n",
    "fig = sns.boxplot(x='variable', y=\"value\", data=data)"
   ]
  },
  {
   "cell_type": "markdown",
   "id": "1fedb5dd",
   "metadata": {},
   "source": [
    "# Task 1B\n",
    "\n",
    "\n",
    "As the insights from Task 1A will have shown, the dataset you analyze contains quite some\n",
    "noise. Values are sometimes missing, and extreme or incorrect values are seen that are likely\n",
    "outliers youmay want to remove from the dataset. We will clean the dataset in two steps:\n",
    "\n",
    "• Apply an approach to remove extreme and incorrect values fromyour dataset. Describe\n",
    "what your approach is, why you consider that to be a good approach, and describe what\n",
    "the result of applying the approach is.\n",
    "\n",
    "• Impute the missing values using two different approaches. Describe the approaches\n",
    "and study the impact of applying them to your data. Argue which one of the two approacheswould\n",
    "be most suitable and select that one to formyour cleaned dataset. Also\n",
    "base yourself on scientific literature for making your choice.\n",
    "Advanced: The advanced dataset contains a number of time series, select approaches to impute\n",
    "missing values that are logical for such time series. Also consider what to do with prolonged\n",
    "periods of missing data in a time series."
   ]
  },
  {
   "cell_type": "code",
   "execution_count": null,
   "id": "625cfee5",
   "metadata": {},
   "outputs": [],
   "source": []
  }
 ],
 "metadata": {
  "kernelspec": {
   "display_name": "Python 3 (ipykernel)",
   "language": "python",
   "name": "python3"
  },
  "language_info": {
   "codemirror_mode": {
    "name": "ipython",
    "version": 3
   },
   "file_extension": ".py",
   "mimetype": "text/x-python",
   "name": "python",
   "nbconvert_exporter": "python",
   "pygments_lexer": "ipython3",
   "version": "3.9.12"
  }
 },
 "nbformat": 4,
 "nbformat_minor": 5
}
