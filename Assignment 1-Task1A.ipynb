{
 "cells": [
  {
   "cell_type": "code",
   "execution_count": 10,
   "id": "0ce2cb10",
   "metadata": {},
   "outputs": [],
   "source": [
    "import pandas as pd\n",
    "import numpy as np\n",
    "import matplotlib.pyplot as plt\n",
    "import seaborn as sns"
   ]
  },
  {
   "cell_type": "code",
   "execution_count": 11,
   "id": "2e369691",
   "metadata": {},
   "outputs": [
    {
     "data": {
      "text/html": [
       "<div>\n",
       "<style scoped>\n",
       "    .dataframe tbody tr th:only-of-type {\n",
       "        vertical-align: middle;\n",
       "    }\n",
       "\n",
       "    .dataframe tbody tr th {\n",
       "        vertical-align: top;\n",
       "    }\n",
       "\n",
       "    .dataframe thead th {\n",
       "        text-align: right;\n",
       "    }\n",
       "</style>\n",
       "<table border=\"1\" class=\"dataframe\">\n",
       "  <thead>\n",
       "    <tr style=\"text-align: right;\">\n",
       "      <th></th>\n",
       "      <th>id</th>\n",
       "      <th>time</th>\n",
       "      <th>variable</th>\n",
       "      <th>value</th>\n",
       "    </tr>\n",
       "  </thead>\n",
       "  <tbody>\n",
       "    <tr>\n",
       "      <th>0</th>\n",
       "      <td>AS14.01</td>\n",
       "      <td>2014-02-26 13:00:00.000</td>\n",
       "      <td>mood</td>\n",
       "      <td>6.000</td>\n",
       "    </tr>\n",
       "    <tr>\n",
       "      <th>1</th>\n",
       "      <td>AS14.01</td>\n",
       "      <td>2014-02-26 15:00:00.000</td>\n",
       "      <td>mood</td>\n",
       "      <td>6.000</td>\n",
       "    </tr>\n",
       "    <tr>\n",
       "      <th>2</th>\n",
       "      <td>AS14.01</td>\n",
       "      <td>2014-02-26 18:00:00.000</td>\n",
       "      <td>mood</td>\n",
       "      <td>6.000</td>\n",
       "    </tr>\n",
       "    <tr>\n",
       "      <th>3</th>\n",
       "      <td>AS14.01</td>\n",
       "      <td>2014-02-26 21:00:00.000</td>\n",
       "      <td>mood</td>\n",
       "      <td>7.000</td>\n",
       "    </tr>\n",
       "    <tr>\n",
       "      <th>4</th>\n",
       "      <td>AS14.01</td>\n",
       "      <td>2014-02-27 09:00:00.000</td>\n",
       "      <td>mood</td>\n",
       "      <td>6.000</td>\n",
       "    </tr>\n",
       "    <tr>\n",
       "      <th>...</th>\n",
       "      <td>...</td>\n",
       "      <td>...</td>\n",
       "      <td>...</td>\n",
       "      <td>...</td>\n",
       "    </tr>\n",
       "    <tr>\n",
       "      <th>376907</th>\n",
       "      <td>AS14.30</td>\n",
       "      <td>2014-04-11 07:51:16.948</td>\n",
       "      <td>appCat.weather</td>\n",
       "      <td>8.032</td>\n",
       "    </tr>\n",
       "    <tr>\n",
       "      <th>376908</th>\n",
       "      <td>AS14.30</td>\n",
       "      <td>2014-04-19 11:00:32.747</td>\n",
       "      <td>appCat.weather</td>\n",
       "      <td>3.008</td>\n",
       "    </tr>\n",
       "    <tr>\n",
       "      <th>376909</th>\n",
       "      <td>AS14.30</td>\n",
       "      <td>2014-04-26 10:19:07.434</td>\n",
       "      <td>appCat.weather</td>\n",
       "      <td>7.026</td>\n",
       "    </tr>\n",
       "    <tr>\n",
       "      <th>376910</th>\n",
       "      <td>AS14.30</td>\n",
       "      <td>2014-04-27 00:44:48.450</td>\n",
       "      <td>appCat.weather</td>\n",
       "      <td>23.033</td>\n",
       "    </tr>\n",
       "    <tr>\n",
       "      <th>376911</th>\n",
       "      <td>AS14.32</td>\n",
       "      <td>2014-04-07 18:25:14.036</td>\n",
       "      <td>appCat.weather</td>\n",
       "      <td>22.431</td>\n",
       "    </tr>\n",
       "  </tbody>\n",
       "</table>\n",
       "<p>376912 rows × 4 columns</p>\n",
       "</div>"
      ],
      "text/plain": [
       "             id                     time        variable   value\n",
       "0       AS14.01  2014-02-26 13:00:00.000            mood   6.000\n",
       "1       AS14.01  2014-02-26 15:00:00.000            mood   6.000\n",
       "2       AS14.01  2014-02-26 18:00:00.000            mood   6.000\n",
       "3       AS14.01  2014-02-26 21:00:00.000            mood   7.000\n",
       "4       AS14.01  2014-02-27 09:00:00.000            mood   6.000\n",
       "...         ...                      ...             ...     ...\n",
       "376907  AS14.30  2014-04-11 07:51:16.948  appCat.weather   8.032\n",
       "376908  AS14.30  2014-04-19 11:00:32.747  appCat.weather   3.008\n",
       "376909  AS14.30  2014-04-26 10:19:07.434  appCat.weather   7.026\n",
       "376910  AS14.30  2014-04-27 00:44:48.450  appCat.weather  23.033\n",
       "376911  AS14.32  2014-04-07 18:25:14.036  appCat.weather  22.431\n",
       "\n",
       "[376912 rows x 4 columns]"
      ]
     },
     "execution_count": 11,
     "metadata": {},
     "output_type": "execute_result"
    }
   ],
   "source": [
    "# Read the data\n",
    "df = pd.read_csv(\"dataset_mood_smartphone.csv\",delimiter=',')\n",
    "# drop df column\n",
    "df = df.drop(['Unnamed: 0'],axis=1)\n",
    "# print the data\n",
    "df"
   ]
  },
  {
   "cell_type": "markdown",
   "id": "4b72244f",
   "metadata": {},
   "source": [
    "## Task 1A\n",
    "\n",
    "Start with exploring the raw data that is available:\n",
    "\n",
    "• Notice all sorts of properties of the dataset: how many records are there, how many\n",
    "attributes, what kinds of attributes are there, ranges of values, distribution of values,\n",
    "relationships between attributes, missing values, and so on. A table is often a suitable\n",
    "way of showing such properties of a dataset. Notice if something is interesting (to you,\n",
    "or in general), make sure you write it down if you find something worth mentioning.\n",
    "\n",
    "• Make various plots of the data. Is there something interesting worth reporting? Report\n",
    "the figures, discuss what is in them. What meaning do those bars, lines, dots, etc.\n",
    "convey? Please select essential and interesting plots for discussion, as you have limited\n",
    "space for reporting your findings.\n"
   ]
  },
  {
   "cell_type": "markdown",
   "id": "e96a407c",
   "metadata": {},
   "source": [
    "## Remaining\n",
    "Remaining - im still not able to find a good graph to showcase in this. \n",
    "Gowthams comment - most entries of appCat have a mood valence associated with its usage. "
   ]
  },
  {
   "cell_type": "code",
   "execution_count": 12,
   "id": "b13f2171",
   "metadata": {},
   "outputs": [
    {
     "data": {
      "text/plain": [
       "Index(['id', 'time', 'variable', 'value'], dtype='object')"
      ]
     },
     "execution_count": 12,
     "metadata": {},
     "output_type": "execute_result"
    }
   ],
   "source": [
    "df.columns"
   ]
  },
  {
   "cell_type": "code",
   "execution_count": 14,
   "id": "639e22ed",
   "metadata": {},
   "outputs": [
    {
     "name": "stdout",
     "output_type": "stream",
     "text": [
      "Number of records: 376912\n",
      "Number of attributes: 4\n",
      "Attribute names and data types:\n",
      "id           object\n",
      "time         object\n",
      "variable     object\n",
      "value       float64\n",
      "dtype: object\n",
      "Range of Time column: ('2014-02-17 07:00:52.197', '2014-06-09 00:00:00.000')\n",
      "Number of missing values per attribute:\n",
      "id            0\n",
      "time          0\n",
      "variable      0\n",
      "value       202\n",
      "dtype: int64\n"
     ]
    }
   ],
   "source": [
    "# print the number of records and attributes\n",
    "print(f'Number of records: {df.shape[0]}')\n",
    "print(f'Number of attributes: {df.shape[1]}')\n",
    "\n",
    "# print the names and data types of the attributes\n",
    "print('Attribute names and data types:')\n",
    "print(df.dtypes)\n",
    "\n",
    "# # get the range of values for the 'value' column\n",
    "# value_range = (df['value'].min(), df['value'].max())\n",
    "# print('Range of Value column:', value_range)\n",
    "\n",
    "# get the range of values for the 'time' column\n",
    "time_range = (df['time'].min(), df['time'].max())\n",
    "print('Range of Time column:', time_range)\n",
    "\n",
    "# print the number of missing values for each attribute\n",
    "print('Number of missing values per attribute:')\n",
    "print(df.isnull().sum())"
   ]
  },
  {
   "cell_type": "code",
   "execution_count": 15,
   "id": "5905b8e4",
   "metadata": {},
   "outputs": [
    {
     "data": {
      "text/html": [
       "<div>\n",
       "<style scoped>\n",
       "    .dataframe tbody tr th:only-of-type {\n",
       "        vertical-align: middle;\n",
       "    }\n",
       "\n",
       "    .dataframe tbody tr th {\n",
       "        vertical-align: top;\n",
       "    }\n",
       "\n",
       "    .dataframe thead th {\n",
       "        text-align: right;\n",
       "    }\n",
       "</style>\n",
       "<table border=\"1\" class=\"dataframe\">\n",
       "  <thead>\n",
       "    <tr style=\"text-align: right;\">\n",
       "      <th></th>\n",
       "      <th>value</th>\n",
       "    </tr>\n",
       "  </thead>\n",
       "  <tbody>\n",
       "    <tr>\n",
       "      <th>count</th>\n",
       "      <td>376710.000000</td>\n",
       "    </tr>\n",
       "    <tr>\n",
       "      <th>mean</th>\n",
       "      <td>40.665313</td>\n",
       "    </tr>\n",
       "    <tr>\n",
       "      <th>std</th>\n",
       "      <td>273.726007</td>\n",
       "    </tr>\n",
       "    <tr>\n",
       "      <th>min</th>\n",
       "      <td>-82798.871000</td>\n",
       "    </tr>\n",
       "    <tr>\n",
       "      <th>25%</th>\n",
       "      <td>2.025000</td>\n",
       "    </tr>\n",
       "    <tr>\n",
       "      <th>50%</th>\n",
       "      <td>7.029000</td>\n",
       "    </tr>\n",
       "    <tr>\n",
       "      <th>75%</th>\n",
       "      <td>29.356000</td>\n",
       "    </tr>\n",
       "    <tr>\n",
       "      <th>max</th>\n",
       "      <td>33960.246000</td>\n",
       "    </tr>\n",
       "  </tbody>\n",
       "</table>\n",
       "</div>"
      ],
      "text/plain": [
       "               value\n",
       "count  376710.000000\n",
       "mean       40.665313\n",
       "std       273.726007\n",
       "min    -82798.871000\n",
       "25%         2.025000\n",
       "50%         7.029000\n",
       "75%        29.356000\n",
       "max     33960.246000"
      ]
     },
     "execution_count": 15,
     "metadata": {},
     "output_type": "execute_result"
    }
   ],
   "source": [
    "df.describe()"
   ]
  },
  {
   "cell_type": "code",
   "execution_count": 16,
   "id": "17ec0d32",
   "metadata": {},
   "outputs": [
    {
     "data": {
      "text/plain": [
       "(376912, 4)"
      ]
     },
     "execution_count": 16,
     "metadata": {},
     "output_type": "execute_result"
    }
   ],
   "source": [
    "df.shape"
   ]
  },
  {
   "cell_type": "code",
   "execution_count": 17,
   "id": "43faa35d",
   "metadata": {},
   "outputs": [
    {
     "data": {
      "text/plain": [
       "id              27\n",
       "time        336907\n",
       "variable        19\n",
       "value       130606\n",
       "dtype: int64"
      ]
     },
     "execution_count": 17,
     "metadata": {},
     "output_type": "execute_result"
    }
   ],
   "source": [
    "#number of unique values\n",
    "df.nunique()"
   ]
  },
  {
   "cell_type": "code",
   "execution_count": 19,
   "id": "b7e318b4",
   "metadata": {},
   "outputs": [
    {
     "name": "stdout",
     "output_type": "stream",
     "text": [
      "Skewness: -32.064213\n",
      "Kurtosis: 26063.604831\n"
     ]
    }
   ],
   "source": [
    "#skewness and kurtosis\n",
    "print(\"Skewness: %f\" % df['value'].skew())\n",
    "print(\"Kurtosis: %f\" % df['value'].kurt())"
   ]
  },
  {
   "cell_type": "code",
   "execution_count": 50,
   "id": "164de2e6",
   "metadata": {},
   "outputs": [],
   "source": [
    "# something interesting is that there are some duplicated timestamp need to explore more on that\n",
    "# there is a negative value on one day throughout a dataset, huge value.\n",
    "# some values are even missing. "
   ]
  },
  {
   "cell_type": "code",
   "execution_count": 38,
   "id": "f2b6566b",
   "metadata": {},
   "outputs": [
    {
     "name": "stdout",
     "output_type": "stream",
     "text": [
      "                variable       value\n",
      "7            appCat.game  128.391615\n",
      "18                screen   75.335206\n",
      "10         appCat.social   72.401906\n",
      "11         appCat.travel   45.730850\n",
      "12        appCat.unknown   45.553006\n",
      "4   appCat.communication   43.343792\n",
      "5   appCat.entertainment   37.576480\n",
      "9           appCat.other   25.810839\n",
      "8          appCat.office   22.578892\n",
      "6         appCat.finance   21.755251\n",
      "14        appCat.weather   20.148714\n",
      "3         appCat.builtin   18.538262\n",
      "13      appCat.utilities   18.537552\n",
      "17                  mood    6.992555\n",
      "1                   call    1.000000\n",
      "2                    sms    1.000000\n",
      "16    circumplex.valence    0.687808\n",
      "0               activity    0.021739\n",
      "15    circumplex.arousal   -0.098624\n"
     ]
    }
   ],
   "source": [
    "cat1 = df[df['variable'].isin(['activity','call','sms'])].reset_index(drop=True)\n",
    "cat2 = df[np.logical_not(df['variable'].isin(['activity','call','sms']))].reset_index(drop=True)\n",
    "\n",
    "agg_cat1 = cat1.groupby(['variable']).median().reset_index()\n",
    "agg_cat2 = cat2.groupby(['variable']).mean().reset_index()\n",
    "\n",
    "data_agg = pd.concat([agg_cat1, agg_cat2], axis=0)\n",
    "\n",
    "data_agg.reset_index(inplace=True, drop=True)\n",
    "data_agg\n",
    "print(data_agg.sort_values('value',ascending=False))"
   ]
  },
  {
   "cell_type": "code",
   "execution_count": 69,
   "id": "62da31af",
   "metadata": {},
   "outputs": [],
   "source": [
    "#this shows that poeple have spend time on games more (Duration of usage of game apps (time))"
   ]
  },
  {
   "cell_type": "code",
   "execution_count": 34,
   "id": "433323ce",
   "metadata": {},
   "outputs": [
    {
     "name": "stdout",
     "output_type": "stream",
     "text": [
      "                           time   value\n",
      "0       2014-02-17 07:00:52.197   1.000\n",
      "1       2014-02-17 07:12:13.631   1.000\n",
      "2       2014-02-17 07:49:19.635   1.000\n",
      "3       2014-02-17 08:57:16.313   1.000\n",
      "4       2014-02-17 08:58:58.471   1.000\n",
      "...                         ...     ...\n",
      "336902  2014-06-08 11:03:34.453  44.149\n",
      "336903  2014-06-08 11:04:20.233  16.064\n",
      "336904  2014-06-08 11:04:36.299  10.034\n",
      "336905  2014-06-08 11:04:46.335   8.030\n",
      "336906  2014-06-09 00:00:00.000   0.250\n",
      "\n",
      "[336907 rows x 2 columns]\n",
      "                           time      value\n",
      "121767  2014-04-08 23:34:57.855  33960.246\n",
      "197371  2014-04-19 23:15:02.463  32708.818\n",
      "25142   2014-03-23 23:13:26.411  32148.677\n",
      "203484  2014-04-20 23:13:11.269  31729.818\n",
      "203928  2014-04-21 01:10:07.884  30000.906\n",
      "...                         ...        ...\n",
      "322999  2014-05-16 03:00:00.000      0.000\n",
      "41375   2014-03-26 21:18:45.144     -0.011\n",
      "78515   2014-04-02 16:42:16.523     -1.218\n",
      "5406    2014-03-16 15:46:43.769    -44.689\n",
      "271568  2014-04-30 14:18:06.200 -82798.871\n",
      "\n",
      "[336907 rows x 2 columns]\n"
     ]
    }
   ],
   "source": [
    "data_monthly = df[['time','value']]\n",
    "grouped_time_monthly = data_monthly.groupby(['time']).mean().reset_index()\n",
    "print(grouped_time_monthly)\n",
    "print(grouped_time_monthly.sort_values('value',ascending=False))"
   ]
  },
  {
   "cell_type": "code",
   "execution_count": 71,
   "id": "d85f72bf",
   "metadata": {},
   "outputs": [],
   "source": [
    "# this shows in 2014 April the value is highest."
   ]
  },
  {
   "cell_type": "code",
   "execution_count": 72,
   "id": "49c09741",
   "metadata": {},
   "outputs": [],
   "source": [
    "# plot a line graph of 'value' vs 'time'\n",
    "grouped_time_monthly.plot(x='monthly_date', y='value', kind='line')\n",
    "\n",
    "# show the plot\n",
    "plt.show()"
   ]
  },
  {
   "cell_type": "markdown",
   "id": "1fedb5dd",
   "metadata": {},
   "source": [
    "# Task 1B\n",
    "\n",
    "\n",
    "As the insights from Task 1A will have shown, the dataset you analyze contains quite some\n",
    "noise. Values are sometimes missing, and extreme or incorrect values are seen that are likely\n",
    "outliers youmay want to remove from the dataset. We will clean the dataset in two steps:\n",
    "\n",
    "• Apply an approach to remove extreme and incorrect values fromyour dataset. Describe\n",
    "what your approach is, why you consider that to be a good approach, and describe what\n",
    "the result of applying the approach is.\n",
    "\n",
    "• Impute the missing values using two different approaches. Describe the approaches\n",
    "and study the impact of applying them to your data. Argue which one of the two approacheswould\n",
    "be most suitable and select that one to formyour cleaned dataset. Also\n",
    "base yourself on scientific literature for making your choice.\n",
    "Advanced: The advanced dataset contains a number of time series, select approaches to impute\n",
    "missing values that are logical for such time series. Also consider what to do with prolonged\n",
    "periods of missing data in a time series."
   ]
  },
  {
   "cell_type": "code",
   "execution_count": 97,
   "id": "7b3bbc5f",
   "metadata": {},
   "outputs": [
    {
     "data": {
      "image/png": "[encoded data removed]",
      "text/plain": [
       "<Figure size 432x288 with 2 Axes>"
      ]
     },
     "metadata": {
      "needs_background": "light"
     },
     "output_type": "display_data"
    }
   ],
   "source": [
    "sns.heatmap(df.corr());"
   ]
  },
  {
   "cell_type": "code",
   "execution_count": null,
   "id": "625cfee5",
   "metadata": {},
   "outputs": [],
   "source": []
  }
 ],
 "metadata": {
  "kernelspec": {
   "display_name": "Python 3 (ipykernel)",
   "language": "python",
   "name": "python3"
  },
  "language_info": {
   "codemirror_mode": {
    "name": "ipython",
    "version": 3
   },
   "file_extension": ".py",
   "mimetype": "text/x-python",
   "name": "python",
   "nbconvert_exporter": "python",
   "pygments_lexer": "ipython3",
   "version": "3.9.12"
  }
 },
 "nbformat": 4,
 "nbformat_minor": 5
}
